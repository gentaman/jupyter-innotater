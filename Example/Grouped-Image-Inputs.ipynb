{
 "cells": [
  {
   "cell_type": "code",
   "execution_count": null,
   "metadata": {},
   "outputs": [],
   "source": [
    "from jupyter_innotater import *\n",
    "import numpy as np, os"
   ]
  },
  {
   "cell_type": "markdown",
   "metadata": {},
   "source": [
    "## Using GroupedInnotation on the inputs\n",
    "\n",
    "This allows us to form a grid of input images."
   ]
  },
  {
   "cell_type": "code",
   "execution_count": null,
   "metadata": {},
   "outputs": [],
   "source": [
    "foodfns = sorted(os.listdir('./foods/'))\n",
    "foods = ['./foods/'+f for f in foodfns]\n",
    "\n",
    "# Create permuted datasets\n",
    "images = []\n",
    "targets = np.zeros((len(foodfns), 4, 4), dtype='int')\n",
    "\n",
    "for view in range(4):\n",
    "    images.append(foods[view:] + foods[:view])\n",
    "\n",
    "image_ins = [ImageInnotation(images[i], None, name='Food '+str(i), width=300, height=250) for i in range(4)]\n",
    "\n",
    "bb_ins = [BoundingBoxInnotation(targets[i], name='bbs '+str(i), source='Food '+str(i), desc='Food Type '+str(i)) for i in range(4)]"
   ]
  },
  {
   "cell_type": "code",
   "execution_count": null,
   "metadata": {},
   "outputs": [],
   "source": [
    "Innotater(\n",
    "\n",
    "    [ GroupedInnotation(*image_ins[0:2]), GroupedInnotation(*image_ins[2:4]) ],\n",
    "\n",
    "    bb_ins\n",
    "\n",
    ")"
   ]
  },
  {
   "cell_type": "code",
   "execution_count": null,
   "metadata": {},
   "outputs": [],
   "source": []
  }
 ],
 "metadata": {
  "kernelspec": {
   "display_name": "Python 3 (ipykernel)",
   "language": "python",
   "name": "python3"
  },
  "language_info": {
   "codemirror_mode": {
    "name": "ipython",
    "version": 3
   },
   "file_extension": ".py",
   "mimetype": "text/x-python",
   "name": "python",
   "nbconvert_exporter": "python",
   "pygments_lexer": "ipython3",
   "version": "3.9.5"
  }
 },
 "nbformat": 4,
 "nbformat_minor": 4
}
