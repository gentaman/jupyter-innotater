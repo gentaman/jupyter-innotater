{
 "cells": [
  {
   "cell_type": "code",
   "execution_count": null,
   "metadata": {},
   "outputs": [],
   "source": [
    "from jupyter_innotater import *\n",
    "\n",
    "# You may need to install opencv2, or otherwise adjust code to use matplotlib as shown in Examples.ipynb\n",
    "import numpy as np, os, cv2 \n",
    "\n",
    "foodfns = sorted(os.listdir('./foods/'))"
   ]
  },
  {
   "cell_type": "markdown",
   "metadata": {},
   "source": [
    "### Images as Numpy Array (H, W, 3)"
   ]
  },
  {
   "cell_type": "code",
   "execution_count": null,
   "metadata": {},
   "outputs": [],
   "source": [
    "classes = ['vegetable', 'biscuit', 'fruit']\n",
    "foods = [cv2.imread('./foods/'+f) for f in foodfns]\n",
    "targets = [0] * len(foodfns)\n",
    "\n",
    "foods[0].shape"
   ]
  },
  {
   "cell_type": "code",
   "execution_count": null,
   "metadata": {},
   "outputs": [],
   "source": [
    "w2 = Innotater(\n",
    "        ImageInnotation(foods, name='Food'), \n",
    "        MultiClassInnotation(targets, name='FoodType', classes=classes, desc='Food Type')\n",
    ")\n",
    "display(w2)"
   ]
  },
  {
   "cell_type": "markdown",
   "metadata": {},
   "source": [
    "### Greyscale Images as Numpy array (H,W)"
   ]
  },
  {
   "cell_type": "code",
   "execution_count": null,
   "metadata": {},
   "outputs": [],
   "source": [
    "# Flatten to greyscale\n",
    "foods_flat = [f.mean(axis=2).astype('int') for f in foods]"
   ]
  },
  {
   "cell_type": "code",
   "execution_count": null,
   "metadata": {},
   "outputs": [],
   "source": [
    "foods_flat[0].shape"
   ]
  },
  {
   "cell_type": "code",
   "execution_count": null,
   "metadata": {},
   "outputs": [],
   "source": [
    "foods[0].max()"
   ]
  },
  {
   "cell_type": "code",
   "execution_count": null,
   "metadata": {},
   "outputs": [],
   "source": [
    "w2f = Innotater(\n",
    "        ImageInnotation(foods_flat, name='Food'), \n",
    "        MultiClassInnotation(targets, name='FoodType', classes=classes, desc='Food Type')\n",
    ")\n",
    "display(w2f)"
   ]
  },
  {
   "cell_type": "code",
   "execution_count": null,
   "metadata": {},
   "outputs": [],
   "source": []
  }
 ],
 "metadata": {
  "hide_input": false,
  "kernelspec": {
   "display_name": "Python 3 (ipykernel)",
   "language": "python",
   "name": "python3"
  },
  "language_info": {
   "codemirror_mode": {
    "name": "ipython",
    "version": 3
   },
   "file_extension": ".py",
   "mimetype": "text/x-python",
   "name": "python",
   "nbconvert_exporter": "python",
   "pygments_lexer": "ipython3",
   "version": "3.9.5"
  }
 },
 "nbformat": 4,
 "nbformat_minor": 4
}
